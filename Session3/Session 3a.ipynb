{
 "cells": [
  {
   "cell_type": "markdown",
   "id": "d2f0bb4f-06dd-4f2f-afcd-974b44c61d41",
   "metadata": {
    "editable": true,
    "slideshow": {
     "slide_type": ""
    },
    "tags": []
   },
   "source": [
    "- LLM-driven data analysis\n",
    "- LLMs in science (practical appl.): 4o, Gemini\n",
    "- LLM providers (Google, OpenAI, Huggingface TGI)\n",
    "- PandasAI\n",
    "- data-analysis/scientific agents,"
   ]
  },
  {
   "cell_type": "code",
   "execution_count": null,
   "id": "9dbe9af0-cdd9-4f4f-8728-225bb1bb9437",
   "metadata": {
    "editable": true,
    "slideshow": {
     "slide_type": ""
    },
    "tags": []
   },
   "outputs": [],
   "source": []
  }
 ],
 "metadata": {
  "kernelspec": {
   "display_name": "Python 3 (ipykernel)",
   "language": "python",
   "name": "python3"
  },
  "language_info": {
   "codemirror_mode": {
    "name": "ipython",
    "version": 3
   },
   "file_extension": ".py",
   "mimetype": "text/x-python",
   "name": "python",
   "nbconvert_exporter": "python",
   "pygments_lexer": "ipython3",
   "version": "3.10.4"
  }
 },
 "nbformat": 4,
 "nbformat_minor": 5
}
